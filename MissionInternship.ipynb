{
  "nbformat": 4,
  "nbformat_minor": 0,
  "metadata": {
    "colab": {
      "name": "MissionInternship.ipynb",
      "provenance": [],
      "authorship_tag": "ABX9TyOSiwF6JxIL79DE6PLBla8u"
    },
    "kernelspec": {
      "name": "python3",
      "display_name": "Python 3"
    },
    "language_info": {
      "name": "python"
    }
  },
  "cells": [
    {
      "cell_type": "code",
      "metadata": {
        "colab": {
          "base_uri": "https://localhost:8080/"
        },
        "id": "f0Je5x2aYhra",
        "outputId": "10ad41a9-6295-4ad5-c689-38fa0cf8c237"
      },
      "source": [
        "import requests\n",
        "resp = requests.get(\"https://api.telegram.org/bot1967594147:AAF-ZpAy0IjovhMAKQ70a2IqWaCuBDEr300/getUpdates\")\n",
        "print(resp.text)\n",
        "\n"
      ],
      "execution_count": 42,
      "outputs": [
        {
          "output_type": "stream",
          "text": [
            "{\"ok\":true,\"result\":[{\"update_id\":864001411,\n",
            "\"message\":{\"message_id\":6,\"from\":{\"id\":705105471,\"is_bot\":false,\"first_name\":\"Seer.........\",\"username\":\"Seerrrrrrr\"},\"chat\":{\"id\":-553804676,\"title\":\"Mission Internship\",\"type\":\"group\",\"all_members_are_administrators\":true},\"date\":1629270668,\"text\":\"/my_id @MissionInternship_bot\",\"entities\":[{\"offset\":0,\"length\":6,\"type\":\"bot_command\"},{\"offset\":7,\"length\":22,\"type\":\"mention\"}]}},{\"update_id\":864001412,\n",
            "\"message\":{\"message_id\":7,\"from\":{\"id\":705105471,\"is_bot\":false,\"first_name\":\"Seer.........\",\"username\":\"Seerrrrrrr\"},\"chat\":{\"id\":-553804676,\"title\":\"Mission Internship\",\"type\":\"group\",\"all_members_are_administrators\":true},\"date\":1629275842,\"text\":\"/hello\",\"entities\":[{\"offset\":0,\"length\":6,\"type\":\"bot_command\"}]}},{\"update_id\":864001413,\n",
            "\"message\":{\"message_id\":8,\"from\":{\"id\":705105471,\"is_bot\":false,\"first_name\":\"Seer.........\",\"username\":\"Seerrrrrrr\"},\"chat\":{\"id\":-553804676,\"title\":\"Mission Internship\",\"type\":\"group\",\"all_members_are_administrators\":true},\"date\":1629276271,\"text\":\"/helllo stupid bot\",\"entities\":[{\"offset\":0,\"length\":7,\"type\":\"bot_command\"}]}},{\"update_id\":864001414,\n",
            "\"message\":{\"message_id\":9,\"from\":{\"id\":705105471,\"is_bot\":false,\"first_name\":\"Seer.........\",\"username\":\"Seerrrrrrr\"},\"chat\":{\"id\":-553804676,\"title\":\"Mission Internship\",\"type\":\"group\",\"all_members_are_administrators\":true},\"date\":1629277268,\"text\":\"/hi this is a new messafge\",\"entities\":[{\"offset\":0,\"length\":3,\"type\":\"bot_command\"}]}}]}\n"
          ],
          "name": "stdout"
        }
      ]
    },
    {
      "cell_type": "code",
      "metadata": {
        "colab": {
          "base_uri": "https://localhost:8080/"
        },
        "id": "FTlzWwwInaMC",
        "outputId": "c51f1ab7-4e89-4ccf-d755-b468f50723af"
      },
      "source": [
        "import requests\n",
        "base_url = \"https://api.telegram.org/bot1967594147:AAF-ZpAy0IjovhMAKQ70a2IqWaCuBDEr300/getUpdates\"\n",
        "\n",
        "parameters = {\n",
        "    \"offset\" : \"705105471\",\n",
        "    \"limit\" : \"2\"\n",
        "}\n",
        "resp = requests.get(base_url, data = parameters)\n",
        "print(resp.text)"
      ],
      "execution_count": 43,
      "outputs": [
        {
          "output_type": "stream",
          "text": [
            "{\"ok\":true,\"result\":[{\"update_id\":864001411,\n",
            "\"message\":{\"message_id\":6,\"from\":{\"id\":705105471,\"is_bot\":false,\"first_name\":\"Seer.........\",\"username\":\"Seerrrrrrr\"},\"chat\":{\"id\":-553804676,\"title\":\"Mission Internship\",\"type\":\"group\",\"all_members_are_administrators\":true},\"date\":1629270668,\"text\":\"/my_id @MissionInternship_bot\",\"entities\":[{\"offset\":0,\"length\":6,\"type\":\"bot_command\"},{\"offset\":7,\"length\":22,\"type\":\"mention\"}]}},{\"update_id\":864001412,\n",
            "\"message\":{\"message_id\":7,\"from\":{\"id\":705105471,\"is_bot\":false,\"first_name\":\"Seer.........\",\"username\":\"Seerrrrrrr\"},\"chat\":{\"id\":-553804676,\"title\":\"Mission Internship\",\"type\":\"group\",\"all_members_are_administrators\":true},\"date\":1629275842,\"text\":\"/hello\",\"entities\":[{\"offset\":0,\"length\":6,\"type\":\"bot_command\"}]}}]}\n"
          ],
          "name": "stdout"
        }
      ]
    },
    {
      "cell_type": "code",
      "metadata": {
        "colab": {
          "base_uri": "https://localhost:8080/"
        },
        "id": "4vcrbFI7jv2Z",
        "outputId": "ac62adaa-7c79-4dd8-b8e9-f8b9021b9c40"
      },
      "source": [
        "import requests\n",
        "base_url = \"https://api.telegram.org/bot1967594147:AAF-ZpAy0IjovhMAKQ70a2IqWaCuBDEr300/sendMessage\"\n",
        "\n",
        "parameters = {\n",
        "    \"chat_id\" : \"-553804676\",\n",
        "    \"text\" : \"Hi, Join this group for more job updates. Click on the link, https://t.me/joinchat/MwdxxqAb5pU3ZTU1\"\n",
        "}\n",
        "resp = requests.get(base_url, data = parameters)\n",
        "print(resp.text)"
      ],
      "execution_count": 44,
      "outputs": [
        {
          "output_type": "stream",
          "text": [
            "{\"ok\":true,\"result\":{\"message_id\":18,\"from\":{\"id\":1967594147,\"is_bot\":true,\"first_name\":\"MissionInternship\",\"username\":\"MissionInternship_bot\"},\"chat\":{\"id\":-553804676,\"title\":\"Mission Internship\",\"type\":\"group\",\"all_members_are_administrators\":true},\"date\":1629282811,\"text\":\"Hi, Join this group for more job updates. Click on the link, https://t.me/joinchat/MwdxxqAb5pU3ZTU1\",\"entities\":[{\"offset\":61,\"length\":38,\"type\":\"url\"}]}}\n"
          ],
          "name": "stdout"
        }
      ]
    }
  ]
}